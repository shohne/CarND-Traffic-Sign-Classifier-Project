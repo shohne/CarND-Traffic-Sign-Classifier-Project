{
 "cells": [
  {
   "cell_type": "code",
   "execution_count": 1,
   "metadata": {},
   "outputs": [
    {
     "name": "stderr",
     "output_type": "stream",
     "text": [
      "/home/hohne/anaconda3/envs/carnd-term1-gpu/lib/python3.5/site-packages/h5py/__init__.py:36: FutureWarning: Conversion of the second argument of issubdtype from `float` to `np.floating` is deprecated. In future, it will be treated as `np.float64 == np.dtype(float).type`.\n",
      "  from ._conv import register_converters as _register_converters\n",
      "Using Theano backend.\n",
      "WARNING (theano.configdefaults): install mkl with `conda install mkl-service`: No module named 'mkl'\n"
     ]
    }
   ],
   "source": [
    "import keras"
   ]
  },
  {
   "cell_type": "code",
   "execution_count": 2,
   "metadata": {},
   "outputs": [],
   "source": [
    "from keras.utils import plot_model"
   ]
  },
  {
   "cell_type": "code",
   "execution_count": 3,
   "metadata": {},
   "outputs": [],
   "source": [
    "from keras.layers import Input"
   ]
  },
  {
   "cell_type": "code",
   "execution_count": 4,
   "metadata": {},
   "outputs": [],
   "source": [
    "from keras.layers import Dense"
   ]
  },
  {
   "cell_type": "code",
   "execution_count": 5,
   "metadata": {},
   "outputs": [],
   "source": [
    "from keras.models import Model"
   ]
  },
  {
   "cell_type": "code",
   "execution_count": 6,
   "metadata": {},
   "outputs": [],
   "source": [
    "from keras.layers import Conv2D"
   ]
  },
  {
   "cell_type": "code",
   "execution_count": 7,
   "metadata": {},
   "outputs": [],
   "source": [
    "from keras.layers import Dropout"
   ]
  },
  {
   "cell_type": "code",
   "execution_count": 8,
   "metadata": {},
   "outputs": [],
   "source": [
    "from keras.layers import Flatten"
   ]
  },
  {
   "cell_type": "code",
   "execution_count": 9,
   "metadata": {},
   "outputs": [],
   "source": [
    "from keras.layers import MaxPooling2D"
   ]
  },
  {
   "cell_type": "code",
   "execution_count": 10,
   "metadata": {},
   "outputs": [],
   "source": [
    "from keras.layers import Activation"
   ]
  },
  {
   "cell_type": "code",
   "execution_count": 11,
   "metadata": {},
   "outputs": [],
   "source": [
    "from keras.models import Sequential"
   ]
  },
  {
   "cell_type": "code",
   "execution_count": 12,
   "metadata": {},
   "outputs": [],
   "source": [
    "model = Sequential()"
   ]
  },
  {
   "cell_type": "code",
   "execution_count": null,
   "metadata": {},
   "outputs": [],
   "source": []
  },
  {
   "cell_type": "code",
   "execution_count": 15,
   "metadata": {},
   "outputs": [],
   "source": [
    "model.add(Conv2D(18, (5,5), input_shape = (32,32,3,)))"
   ]
  },
  {
   "cell_type": "code",
   "execution_count": 16,
   "metadata": {},
   "outputs": [],
   "source": [
    "model.add(Activation('relu'))"
   ]
  },
  {
   "cell_type": "code",
   "execution_count": 17,
   "metadata": {},
   "outputs": [],
   "source": [
    "model.add(MaxPooling2D(2))"
   ]
  },
  {
   "cell_type": "code",
   "execution_count": 18,
   "metadata": {},
   "outputs": [],
   "source": [
    "model.add(Conv2D(32, (5,5)))"
   ]
  },
  {
   "cell_type": "code",
   "execution_count": 19,
   "metadata": {},
   "outputs": [],
   "source": [
    "model.add(Activation('relu'))"
   ]
  },
  {
   "cell_type": "code",
   "execution_count": 20,
   "metadata": {},
   "outputs": [],
   "source": [
    "model.add(MaxPooling2D(2))"
   ]
  },
  {
   "cell_type": "code",
   "execution_count": 21,
   "metadata": {},
   "outputs": [],
   "source": [
    "model.add(Flatten())"
   ]
  },
  {
   "cell_type": "code",
   "execution_count": 22,
   "metadata": {},
   "outputs": [],
   "source": [
    "model.add(Dropout(0.4))"
   ]
  },
  {
   "cell_type": "code",
   "execution_count": 23,
   "metadata": {},
   "outputs": [],
   "source": [
    "model.add(Dense(360))"
   ]
  },
  {
   "cell_type": "code",
   "execution_count": 24,
   "metadata": {},
   "outputs": [],
   "source": [
    "model.add(Activation('relu'))"
   ]
  },
  {
   "cell_type": "code",
   "execution_count": 25,
   "metadata": {},
   "outputs": [],
   "source": [
    "model.add(Dropout(0.4))"
   ]
  },
  {
   "cell_type": "code",
   "execution_count": 26,
   "metadata": {},
   "outputs": [],
   "source": [
    "model.add(Dense(100))"
   ]
  },
  {
   "cell_type": "code",
   "execution_count": 27,
   "metadata": {},
   "outputs": [],
   "source": [
    "model.add(Activation('relu'))"
   ]
  },
  {
   "cell_type": "code",
   "execution_count": 28,
   "metadata": {},
   "outputs": [],
   "source": [
    "model.add(Dense(43))"
   ]
  },
  {
   "cell_type": "code",
   "execution_count": 29,
   "metadata": {},
   "outputs": [],
   "source": [
    "model.add(Activation('softmax'))"
   ]
  },
  {
   "cell_type": "code",
   "execution_count": 30,
   "metadata": {},
   "outputs": [],
   "source": [
    "from IPython.display import SVG"
   ]
  },
  {
   "cell_type": "code",
   "execution_count": 31,
   "metadata": {},
   "outputs": [],
   "source": [
    "from keras.utils.vis_utils import model_to_dot"
   ]
  },
  {
   "cell_type": "code",
   "execution_count": 32,
   "metadata": {},
   "outputs": [
    {
     "data": {
      "image/svg+xml": [
       "<svg height=\"1140pt\" viewBox=\"0.00 0.00 215.00 1140.00\" width=\"215pt\" xmlns=\"http://www.w3.org/2000/svg\" xmlns:xlink=\"http://www.w3.org/1999/xlink\">\n",
       "<g class=\"graph\" id=\"graph0\" transform=\"scale(1 1) rotate(0) translate(4 1136)\">\n",
       "<title>G</title>\n",
       "<polygon fill=\"white\" points=\"-4,4 -4,-1136 211,-1136 211,4 -4,4\" stroke=\"none\"/>\n",
       "<!-- 140431411800160 -->\n",
       "<g class=\"node\" id=\"node1\"><title>140431411800160</title>\n",
       "<polygon fill=\"none\" points=\"17.5,-1095.5 17.5,-1131.5 189.5,-1131.5 189.5,-1095.5 17.5,-1095.5\" stroke=\"black\"/>\n",
       "<text font-family=\"Times,serif\" font-size=\"14.00\" text-anchor=\"middle\" x=\"103.5\" y=\"-1109.8\">conv2d_1_input: InputLayer</text>\n",
       "</g>\n",
       "<!-- 140431411799824 -->\n",
       "<g class=\"node\" id=\"node2\"><title>140431411799824</title>\n",
       "<polygon fill=\"none\" points=\"42,-1022.5 42,-1058.5 165,-1058.5 165,-1022.5 42,-1022.5\" stroke=\"black\"/>\n",
       "<text font-family=\"Times,serif\" font-size=\"14.00\" text-anchor=\"middle\" x=\"103.5\" y=\"-1036.8\">conv2d_1: Conv2D</text>\n",
       "</g>\n",
       "<!-- 140431411800160&#45;&gt;140431411799824 -->\n",
       "<g class=\"edge\" id=\"edge1\"><title>140431411800160-&gt;140431411799824</title>\n",
       "<path d=\"M103.5,-1095.31C103.5,-1087.29 103.5,-1077.55 103.5,-1068.57\" fill=\"none\" stroke=\"black\"/>\n",
       "<polygon fill=\"black\" points=\"107,-1068.53 103.5,-1058.53 100,-1068.53 107,-1068.53\" stroke=\"black\"/>\n",
       "</g>\n",
       "<!-- 140431411799320 -->\n",
       "<g class=\"node\" id=\"node3\"><title>140431411799320</title>\n",
       "<polygon fill=\"none\" points=\"29.5,-949.5 29.5,-985.5 177.5,-985.5 177.5,-949.5 29.5,-949.5\" stroke=\"black\"/>\n",
       "<text font-family=\"Times,serif\" font-size=\"14.00\" text-anchor=\"middle\" x=\"103.5\" y=\"-963.8\">activation_2: Activation</text>\n",
       "</g>\n",
       "<!-- 140431411799824&#45;&gt;140431411799320 -->\n",
       "<g class=\"edge\" id=\"edge2\"><title>140431411799824-&gt;140431411799320</title>\n",
       "<path d=\"M103.5,-1022.31C103.5,-1014.29 103.5,-1004.55 103.5,-995.569\" fill=\"none\" stroke=\"black\"/>\n",
       "<polygon fill=\"black\" points=\"107,-995.529 103.5,-985.529 100,-995.529 107,-995.529\" stroke=\"black\"/>\n",
       "</g>\n",
       "<!-- 140431389261160 -->\n",
       "<g class=\"node\" id=\"node4\"><title>140431389261160</title>\n",
       "<polygon fill=\"none\" points=\"0,-876.5 0,-912.5 207,-912.5 207,-876.5 0,-876.5\" stroke=\"black\"/>\n",
       "<text font-family=\"Times,serif\" font-size=\"14.00\" text-anchor=\"middle\" x=\"103.5\" y=\"-890.8\">max_pooling2d_1: MaxPooling2D</text>\n",
       "</g>\n",
       "<!-- 140431411799320&#45;&gt;140431389261160 -->\n",
       "<g class=\"edge\" id=\"edge3\"><title>140431411799320-&gt;140431389261160</title>\n",
       "<path d=\"M103.5,-949.313C103.5,-941.289 103.5,-931.547 103.5,-922.569\" fill=\"none\" stroke=\"black\"/>\n",
       "<polygon fill=\"black\" points=\"107,-922.529 103.5,-912.529 100,-922.529 107,-922.529\" stroke=\"black\"/>\n",
       "</g>\n",
       "<!-- 140431403296752 -->\n",
       "<g class=\"node\" id=\"node5\"><title>140431403296752</title>\n",
       "<polygon fill=\"none\" points=\"42,-803.5 42,-839.5 165,-839.5 165,-803.5 42,-803.5\" stroke=\"black\"/>\n",
       "<text font-family=\"Times,serif\" font-size=\"14.00\" text-anchor=\"middle\" x=\"103.5\" y=\"-817.8\">conv2d_2: Conv2D</text>\n",
       "</g>\n",
       "<!-- 140431389261160&#45;&gt;140431403296752 -->\n",
       "<g class=\"edge\" id=\"edge4\"><title>140431389261160-&gt;140431403296752</title>\n",
       "<path d=\"M103.5,-876.313C103.5,-868.289 103.5,-858.547 103.5,-849.569\" fill=\"none\" stroke=\"black\"/>\n",
       "<polygon fill=\"black\" points=\"107,-849.529 103.5,-839.529 100,-849.529 107,-849.529\" stroke=\"black\"/>\n",
       "</g>\n",
       "<!-- 140431396725872 -->\n",
       "<g class=\"node\" id=\"node6\"><title>140431396725872</title>\n",
       "<polygon fill=\"none\" points=\"29.5,-730.5 29.5,-766.5 177.5,-766.5 177.5,-730.5 29.5,-730.5\" stroke=\"black\"/>\n",
       "<text font-family=\"Times,serif\" font-size=\"14.00\" text-anchor=\"middle\" x=\"103.5\" y=\"-744.8\">activation_3: Activation</text>\n",
       "</g>\n",
       "<!-- 140431403296752&#45;&gt;140431396725872 -->\n",
       "<g class=\"edge\" id=\"edge5\"><title>140431403296752-&gt;140431396725872</title>\n",
       "<path d=\"M103.5,-803.313C103.5,-795.289 103.5,-785.547 103.5,-776.569\" fill=\"none\" stroke=\"black\"/>\n",
       "<polygon fill=\"black\" points=\"107,-776.529 103.5,-766.529 100,-776.529 107,-776.529\" stroke=\"black\"/>\n",
       "</g>\n",
       "<!-- 140431388391576 -->\n",
       "<g class=\"node\" id=\"node7\"><title>140431388391576</title>\n",
       "<polygon fill=\"none\" points=\"0,-657.5 0,-693.5 207,-693.5 207,-657.5 0,-657.5\" stroke=\"black\"/>\n",
       "<text font-family=\"Times,serif\" font-size=\"14.00\" text-anchor=\"middle\" x=\"103.5\" y=\"-671.8\">max_pooling2d_2: MaxPooling2D</text>\n",
       "</g>\n",
       "<!-- 140431396725872&#45;&gt;140431388391576 -->\n",
       "<g class=\"edge\" id=\"edge6\"><title>140431396725872-&gt;140431388391576</title>\n",
       "<path d=\"M103.5,-730.313C103.5,-722.289 103.5,-712.547 103.5,-703.569\" fill=\"none\" stroke=\"black\"/>\n",
       "<polygon fill=\"black\" points=\"107,-703.529 103.5,-693.529 100,-703.529 107,-703.529\" stroke=\"black\"/>\n",
       "</g>\n",
       "<!-- 140431388391632 -->\n",
       "<g class=\"node\" id=\"node8\"><title>140431388391632</title>\n",
       "<polygon fill=\"none\" points=\"48.5,-584.5 48.5,-620.5 158.5,-620.5 158.5,-584.5 48.5,-584.5\" stroke=\"black\"/>\n",
       "<text font-family=\"Times,serif\" font-size=\"14.00\" text-anchor=\"middle\" x=\"103.5\" y=\"-598.8\">flatten_1: Flatten</text>\n",
       "</g>\n",
       "<!-- 140431388391576&#45;&gt;140431388391632 -->\n",
       "<g class=\"edge\" id=\"edge7\"><title>140431388391576-&gt;140431388391632</title>\n",
       "<path d=\"M103.5,-657.313C103.5,-649.289 103.5,-639.547 103.5,-630.569\" fill=\"none\" stroke=\"black\"/>\n",
       "<polygon fill=\"black\" points=\"107,-630.529 103.5,-620.529 100,-630.529 107,-630.529\" stroke=\"black\"/>\n",
       "</g>\n",
       "<!-- 140431388392920 -->\n",
       "<g class=\"node\" id=\"node9\"><title>140431388392920</title>\n",
       "<polygon fill=\"none\" points=\"41,-511.5 41,-547.5 166,-547.5 166,-511.5 41,-511.5\" stroke=\"black\"/>\n",
       "<text font-family=\"Times,serif\" font-size=\"14.00\" text-anchor=\"middle\" x=\"103.5\" y=\"-525.8\">dropout_1: Dropout</text>\n",
       "</g>\n",
       "<!-- 140431388391632&#45;&gt;140431388392920 -->\n",
       "<g class=\"edge\" id=\"edge8\"><title>140431388391632-&gt;140431388392920</title>\n",
       "<path d=\"M103.5,-584.313C103.5,-576.289 103.5,-566.547 103.5,-557.569\" fill=\"none\" stroke=\"black\"/>\n",
       "<polygon fill=\"black\" points=\"107,-557.529 103.5,-547.529 100,-557.529 107,-557.529\" stroke=\"black\"/>\n",
       "</g>\n",
       "<!-- 140431388452736 -->\n",
       "<g class=\"node\" id=\"node10\"><title>140431388452736</title>\n",
       "<polygon fill=\"none\" points=\"52.5,-438.5 52.5,-474.5 154.5,-474.5 154.5,-438.5 52.5,-438.5\" stroke=\"black\"/>\n",
       "<text font-family=\"Times,serif\" font-size=\"14.00\" text-anchor=\"middle\" x=\"103.5\" y=\"-452.8\">dense_1: Dense</text>\n",
       "</g>\n",
       "<!-- 140431388392920&#45;&gt;140431388452736 -->\n",
       "<g class=\"edge\" id=\"edge9\"><title>140431388392920-&gt;140431388452736</title>\n",
       "<path d=\"M103.5,-511.313C103.5,-503.289 103.5,-493.547 103.5,-484.569\" fill=\"none\" stroke=\"black\"/>\n",
       "<polygon fill=\"black\" points=\"107,-484.529 103.5,-474.529 100,-484.529 107,-484.529\" stroke=\"black\"/>\n",
       "</g>\n",
       "<!-- 140431389275472 -->\n",
       "<g class=\"node\" id=\"node11\"><title>140431389275472</title>\n",
       "<polygon fill=\"none\" points=\"29.5,-365.5 29.5,-401.5 177.5,-401.5 177.5,-365.5 29.5,-365.5\" stroke=\"black\"/>\n",
       "<text font-family=\"Times,serif\" font-size=\"14.00\" text-anchor=\"middle\" x=\"103.5\" y=\"-379.8\">activation_4: Activation</text>\n",
       "</g>\n",
       "<!-- 140431388452736&#45;&gt;140431389275472 -->\n",
       "<g class=\"edge\" id=\"edge10\"><title>140431388452736-&gt;140431389275472</title>\n",
       "<path d=\"M103.5,-438.313C103.5,-430.289 103.5,-420.547 103.5,-411.569\" fill=\"none\" stroke=\"black\"/>\n",
       "<polygon fill=\"black\" points=\"107,-411.529 103.5,-401.529 100,-411.529 107,-411.529\" stroke=\"black\"/>\n",
       "</g>\n",
       "<!-- 140431389275808 -->\n",
       "<g class=\"node\" id=\"node12\"><title>140431389275808</title>\n",
       "<polygon fill=\"none\" points=\"41,-292.5 41,-328.5 166,-328.5 166,-292.5 41,-292.5\" stroke=\"black\"/>\n",
       "<text font-family=\"Times,serif\" font-size=\"14.00\" text-anchor=\"middle\" x=\"103.5\" y=\"-306.8\">dropout_2: Dropout</text>\n",
       "</g>\n",
       "<!-- 140431389275472&#45;&gt;140431389275808 -->\n",
       "<g class=\"edge\" id=\"edge11\"><title>140431389275472-&gt;140431389275808</title>\n",
       "<path d=\"M103.5,-365.313C103.5,-357.289 103.5,-347.547 103.5,-338.569\" fill=\"none\" stroke=\"black\"/>\n",
       "<polygon fill=\"black\" points=\"107,-338.529 103.5,-328.529 100,-338.529 107,-338.529\" stroke=\"black\"/>\n",
       "</g>\n",
       "<!-- 140431389274576 -->\n",
       "<g class=\"node\" id=\"node13\"><title>140431389274576</title>\n",
       "<polygon fill=\"none\" points=\"52.5,-219.5 52.5,-255.5 154.5,-255.5 154.5,-219.5 52.5,-219.5\" stroke=\"black\"/>\n",
       "<text font-family=\"Times,serif\" font-size=\"14.00\" text-anchor=\"middle\" x=\"103.5\" y=\"-233.8\">dense_2: Dense</text>\n",
       "</g>\n",
       "<!-- 140431389275808&#45;&gt;140431389274576 -->\n",
       "<g class=\"edge\" id=\"edge12\"><title>140431389275808-&gt;140431389274576</title>\n",
       "<path d=\"M103.5,-292.313C103.5,-284.289 103.5,-274.547 103.5,-265.569\" fill=\"none\" stroke=\"black\"/>\n",
       "<polygon fill=\"black\" points=\"107,-265.529 103.5,-255.529 100,-265.529 107,-265.529\" stroke=\"black\"/>\n",
       "</g>\n",
       "<!-- 140431388294392 -->\n",
       "<g class=\"node\" id=\"node14\"><title>140431388294392</title>\n",
       "<polygon fill=\"none\" points=\"29.5,-146.5 29.5,-182.5 177.5,-182.5 177.5,-146.5 29.5,-146.5\" stroke=\"black\"/>\n",
       "<text font-family=\"Times,serif\" font-size=\"14.00\" text-anchor=\"middle\" x=\"103.5\" y=\"-160.8\">activation_5: Activation</text>\n",
       "</g>\n",
       "<!-- 140431389274576&#45;&gt;140431388294392 -->\n",
       "<g class=\"edge\" id=\"edge13\"><title>140431389274576-&gt;140431388294392</title>\n",
       "<path d=\"M103.5,-219.313C103.5,-211.289 103.5,-201.547 103.5,-192.569\" fill=\"none\" stroke=\"black\"/>\n",
       "<polygon fill=\"black\" points=\"107,-192.529 103.5,-182.529 100,-192.529 107,-192.529\" stroke=\"black\"/>\n",
       "</g>\n",
       "<!-- 140431389275752 -->\n",
       "<g class=\"node\" id=\"node15\"><title>140431389275752</title>\n",
       "<polygon fill=\"none\" points=\"52.5,-73.5 52.5,-109.5 154.5,-109.5 154.5,-73.5 52.5,-73.5\" stroke=\"black\"/>\n",
       "<text font-family=\"Times,serif\" font-size=\"14.00\" text-anchor=\"middle\" x=\"103.5\" y=\"-87.8\">dense_3: Dense</text>\n",
       "</g>\n",
       "<!-- 140431388294392&#45;&gt;140431389275752 -->\n",
       "<g class=\"edge\" id=\"edge14\"><title>140431388294392-&gt;140431389275752</title>\n",
       "<path d=\"M103.5,-146.313C103.5,-138.289 103.5,-128.547 103.5,-119.569\" fill=\"none\" stroke=\"black\"/>\n",
       "<polygon fill=\"black\" points=\"107,-119.529 103.5,-109.529 100,-119.529 107,-119.529\" stroke=\"black\"/>\n",
       "</g>\n",
       "<!-- 140431381647432 -->\n",
       "<g class=\"node\" id=\"node16\"><title>140431381647432</title>\n",
       "<polygon fill=\"none\" points=\"29.5,-0.5 29.5,-36.5 177.5,-36.5 177.5,-0.5 29.5,-0.5\" stroke=\"black\"/>\n",
       "<text font-family=\"Times,serif\" font-size=\"14.00\" text-anchor=\"middle\" x=\"103.5\" y=\"-14.8\">activation_6: Activation</text>\n",
       "</g>\n",
       "<!-- 140431389275752&#45;&gt;140431381647432 -->\n",
       "<g class=\"edge\" id=\"edge15\"><title>140431389275752-&gt;140431381647432</title>\n",
       "<path d=\"M103.5,-73.3129C103.5,-65.2895 103.5,-55.5475 103.5,-46.5691\" fill=\"none\" stroke=\"black\"/>\n",
       "<polygon fill=\"black\" points=\"107,-46.5288 103.5,-36.5288 100,-46.5289 107,-46.5288\" stroke=\"black\"/>\n",
       "</g>\n",
       "</g>\n",
       "</svg>"
      ],
      "text/plain": [
       "<IPython.core.display.SVG object>"
      ]
     },
     "execution_count": 32,
     "metadata": {},
     "output_type": "execute_result"
    }
   ],
   "source": [
    "SVG(model_to_dot(model).create(prog='dot', format='svg'))"
   ]
  },
  {
   "cell_type": "code",
   "execution_count": 35,
   "metadata": {},
   "outputs": [],
   "source": [
    "plot_model(model, to_file = 'model_traffic.png')"
   ]
  },
  {
   "cell_type": "code",
   "execution_count": 36,
   "metadata": {},
   "outputs": [
    {
     "name": "stdout",
     "output_type": "stream",
     "text": [
      "_________________________________________________________________\n",
      "Layer (type)                 Output Shape              Param #   \n",
      "=================================================================\n",
      "conv2d_1 (Conv2D)            (None, 28, 28, 18)        1368      \n",
      "_________________________________________________________________\n",
      "activation_2 (Activation)    (None, 28, 28, 18)        0         \n",
      "_________________________________________________________________\n",
      "max_pooling2d_1 (MaxPooling2 (None, 14, 14, 18)        0         \n",
      "_________________________________________________________________\n",
      "conv2d_2 (Conv2D)            (None, 10, 10, 32)        14432     \n",
      "_________________________________________________________________\n",
      "activation_3 (Activation)    (None, 10, 10, 32)        0         \n",
      "_________________________________________________________________\n",
      "max_pooling2d_2 (MaxPooling2 (None, 5, 5, 32)          0         \n",
      "_________________________________________________________________\n",
      "flatten_1 (Flatten)          (None, 800)               0         \n",
      "_________________________________________________________________\n",
      "dropout_1 (Dropout)          (None, 800)               0         \n",
      "_________________________________________________________________\n",
      "dense_1 (Dense)              (None, 360)               288360    \n",
      "_________________________________________________________________\n",
      "activation_4 (Activation)    (None, 360)               0         \n",
      "_________________________________________________________________\n",
      "dropout_2 (Dropout)          (None, 360)               0         \n",
      "_________________________________________________________________\n",
      "dense_2 (Dense)              (None, 100)               36100     \n",
      "_________________________________________________________________\n",
      "activation_5 (Activation)    (None, 100)               0         \n",
      "_________________________________________________________________\n",
      "dense_3 (Dense)              (None, 43)                4343      \n",
      "_________________________________________________________________\n",
      "activation_6 (Activation)    (None, 43)                0         \n",
      "=================================================================\n",
      "Total params: 344,603\n",
      "Trainable params: 344,603\n",
      "Non-trainable params: 0\n",
      "_________________________________________________________________\n"
     ]
    }
   ],
   "source": [
    "model.summary()"
   ]
  },
  {
   "cell_type": "code",
   "execution_count": null,
   "metadata": {},
   "outputs": [],
   "source": []
  }
 ],
 "metadata": {
  "kernelspec": {
   "display_name": "Python 3",
   "language": "python",
   "name": "python3"
  },
  "language_info": {
   "codemirror_mode": {
    "name": "ipython",
    "version": 3
   },
   "file_extension": ".py",
   "mimetype": "text/x-python",
   "name": "python",
   "nbconvert_exporter": "python",
   "pygments_lexer": "ipython3",
   "version": "3.5.2"
  },
  "widgets": {
   "state": {},
   "version": "1.1.2"
  }
 },
 "nbformat": 4,
 "nbformat_minor": 2
}
